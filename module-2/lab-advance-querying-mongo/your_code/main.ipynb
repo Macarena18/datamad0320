{
 "cells": [
  {
   "cell_type": "markdown",
   "metadata": {},
   "source": [
    "# Advanced Querying Mongo"
   ]
  },
  {
   "cell_type": "markdown",
   "metadata": {},
   "source": [
    "Importing libraries and setting up connection"
   ]
  },
  {
   "cell_type": "code",
   "execution_count": 2,
   "metadata": {},
   "outputs": [
    {
     "name": "stdout",
     "output_type": "stream",
     "text": [
      "Collecting pymongo\n",
      "  Downloading pymongo-3.10.1-cp37-cp37m-macosx_10_9_x86_64.whl (350 kB)\n",
      "\u001b[K     |████████████████████████████████| 350 kB 2.4 MB/s eta 0:00:01\n",
      "\u001b[?25hInstalling collected packages: pymongo\n",
      "Successfully installed pymongo-3.10.1\n"
     ]
    }
   ],
   "source": [
    "!pip3 install pymongo"
   ]
  },
  {
   "cell_type": "code",
   "execution_count": 26,
   "metadata": {},
   "outputs": [],
   "source": [
    "from pymongo import MongoClient\n",
    "dbName=\"companies.json\"\n",
    "mongodbURL = f\"mongodb://localhost/{dbName}\"\n",
    "client = MongoClient(mongodbURL, connectTimeoutMS=2000,serverSelectionTimeoutMS=2000)\n",
    "db = client.get_database()"
   ]
  },
  {
   "cell_type": "markdown",
   "metadata": {},
   "source": [
    "### 1. All the companies whose name match 'Babelgum'. Retrieve only their `name` field."
   ]
  },
  {
   "cell_type": "code",
   "execution_count": 31,
   "metadata": {},
   "outputs": [
    {
     "name": "stdout",
     "output_type": "stream",
     "text": [
      "Babelgum\n"
     ]
    }
   ],
   "source": [
    "# Your Code\n",
    "query=db.companies.find({\"name\":\"Babelgum\"})\n",
    "for n in query:\n",
    "    print(n[\"name\"])"
   ]
  },
  {
   "cell_type": "markdown",
   "metadata": {},
   "source": [
    "### 2. All the companies that have more than 5000 employees. Limit the search to 20 companies and sort them by **number of employees**."
   ]
  },
  {
   "cell_type": "code",
   "execution_count": 61,
   "metadata": {},
   "outputs": [
    {
     "name": "stdout",
     "output_type": "stream",
     "text": [
      "Siemens 405000\n",
      "IBM 388000\n",
      "Toyota 320000\n",
      "PayPal 300000\n",
      "Nippon Telegraph and Telephone Corporation 227000\n",
      "Samsung Electronics 221726\n",
      "Accenture 205000\n",
      "Tata Consultancy Services 200300\n",
      "Flextronics International 200000\n",
      "Safeway 186000\n",
      "Sony 180500\n",
      "LG 177000\n",
      "Ford 171000\n",
      "Boeing 160000\n",
      "Digital Equipment Corporation 140000\n",
      "Nokia 125000\n",
      "MItsubishi Electric 107000\n",
      "MItsubishi Electric 107000\n",
      "Comcast 100000\n",
      "Bertelsmann 100000\n"
     ]
    }
   ],
   "source": [
    "# Your Code\n",
    "from pymongo import ASCENDING, DESCENDING\n",
    "employees=db.companies.find({\"number_of_employees\":{\"$gt\":5000}}).limit(20).sort([(\"number_of_employees\", DESCENDING)])\n",
    "for e in employees:\n",
    "    print(e[\"name\"],e[\"number_of_employees\"])"
   ]
  },
  {
   "cell_type": "markdown",
   "metadata": {},
   "source": [
    "### 3. All the companies founded between 2000 and 2005, both years included. Retrieve only the `name` and `founded_year` fields."
   ]
  },
  {
   "cell_type": "code",
   "execution_count": 94,
   "metadata": {},
   "outputs": [],
   "source": [
    "# Your Code\n",
    "foundation_years=db.companies.find({\"founded_year\": {\"$gte\": 2000,\"$lt\":2006}},{\"name\":1,\"founded_year\":1})\n",
    "for f in foundation_years:\n",
    "    print(f[\"name\"],f[\"founded_year\"])"
   ]
  },
  {
   "cell_type": "markdown",
   "metadata": {},
   "source": [
    "### 4. All the companies that had a Valuation Amount of more than 100.000.000 and have been founded before 2010. Retrieve only the `name` and `ipo` fields."
   ]
  },
  {
   "cell_type": "code",
   "execution_count": 105,
   "metadata": {},
   "outputs": [],
   "source": [
    "# Your Code\n",
    "valuation=db.companies.find({\"$and\":[{\"ipo.valuation_amount\":{\"$gte\":100000000}},{\"founded_year\":{\"$lt\":2010}}]},{\"name\":1,\"ipo\":1})\n",
    "for v in valuation:\n",
    "    print(v[\"name\"],v[\"ipo\"])"
   ]
  },
  {
   "cell_type": "markdown",
   "metadata": {},
   "source": [
    "### 5. All the companies that have less than 1000 employees and have been founded before 2005. Order them by the number of employees and limit the search to 10 companies."
   ]
  },
  {
   "cell_type": "code",
   "execution_count": 186,
   "metadata": {},
   "outputs": [
    {
     "name": "stdout",
     "output_type": "stream",
     "text": [
      "Infinera Corporation 974 2000\n",
      "NorthPoint Communications Group 948 1997\n",
      "888 Holdings 931 1997\n",
      "Forrester Research 903 1983\n",
      "SonicWALL 900 1991\n",
      "Webmetrics 900 1999\n",
      "Cornerstone OnDemand 881 1999\n",
      "Yelp 800 2004\n",
      "ZoomInfo 800 2000\n",
      "MySpace 800 2003\n"
     ]
    }
   ],
   "source": [
    "# Your Code\n",
    "employees_number=db.companies.find({\"$and\":[{\"number_of_employees\":{\"$lt\":1000}},{\"founded_year\":{\"$lt\":2005}}]}).limit(10).sort([(\"number_of_employees\", DESCENDING)])\n",
    "for e in employees_number:\n",
    "    print(e[\"name\"],e[\"number_of_employees\"],e[\"founded_year\"])"
   ]
  },
  {
   "cell_type": "markdown",
   "metadata": {},
   "source": [
    "### 6. All the companies that don't include the `partners` field."
   ]
  },
  {
   "cell_type": "code",
   "execution_count": 113,
   "metadata": {},
   "outputs": [],
   "source": [
    "# Your Code\n",
    "partners_notexist=db.companies.find({\"partners\":{\"$exists\":\"false\"}})\n",
    "for x in partners_notexist:\n",
    "    print(x[\"name\"])"
   ]
  },
  {
   "cell_type": "markdown",
   "metadata": {},
   "source": [
    "### 7. All the companies that have a null type of value on the `category_code` field."
   ]
  },
  {
   "cell_type": "code",
   "execution_count": 121,
   "metadata": {},
   "outputs": [],
   "source": [
    "# Your Code\n",
    "category_null=db.companies.find({\"category_code\":None}) # tambien se puede poner {\"type\":\"null\"}}\n",
    "for x in category_null:\n",
    "    print(x[\"name\"])"
   ]
  },
  {
   "cell_type": "markdown",
   "metadata": {},
   "source": [
    "### 8. All the companies that have at least 100 employees but less than 1000. Retrieve only the `name` and `number of employees` fields."
   ]
  },
  {
   "cell_type": "code",
   "execution_count": 124,
   "metadata": {},
   "outputs": [],
   "source": [
    "# Your Code\n",
    "employees_number2=db.companies.find({\"number_of_employees\":{\"$gte\": 100,\"$lt\":1000}},{\"name\":1,\"number_of_employees\":1})\n",
    "for e in employees_number2:\n",
    "    print(e[\"name\"],e[\"number_of_employees\"])"
   ]
  },
  {
   "cell_type": "markdown",
   "metadata": {},
   "source": [
    "### 9. Order all the companies by their IPO price in a descending order."
   ]
  },
  {
   "cell_type": "code",
   "execution_count": 131,
   "metadata": {},
   "outputs": [],
   "source": [
    "# Your Code\n",
    "ipo_price=db.companies.find({\"ipo.valuation_amount\":{\"exists\":\"true\"}}).sort([(\"ipo.valuation_amount\", DESCENDING)])\n",
    "for n in ipo_price:\n",
    "    print(n[\"name\"],n[\"ipo\"][\"valuation_amount\"])"
   ]
  },
  {
   "cell_type": "markdown",
   "metadata": {},
   "source": [
    "### 10. Retrieve the 10 companies with more employees, order by the `number of employees`"
   ]
  },
  {
   "cell_type": "code",
   "execution_count": 138,
   "metadata": {},
   "outputs": [],
   "source": [
    "# Your Code\n",
    "top_companies=db.companies.find({\"number_of_employees\":{\"exists\":True}}).limit(10).sort([(\"number_of_employees\", DESCENDING)])\n",
    "for e in top_companies:\n",
    "    print(e[\"name\"],e[\"number_of_employees\"])"
   ]
  },
  {
   "cell_type": "markdown",
   "metadata": {},
   "source": [
    "### 11. All the companies founded on the second semester of the year. Limit your search to 1000 companies."
   ]
  },
  {
   "cell_type": "code",
   "execution_count": 135,
   "metadata": {},
   "outputs": [],
   "source": [
    "# Your Code\n",
    "second_semester=db.companies.find({\"founded_month\":{\"$gte\": 6,\"$lt\":12}}).limit(1000)\n",
    "for e in second_semester:\n",
    "    print(e[\"name\"],e[\"founded_month\"])                             "
   ]
  },
  {
   "cell_type": "markdown",
   "metadata": {},
   "source": [
    "### 12. All the companies founded before 2000 that have an acquisition amount of more than 10.000.00"
   ]
  },
  {
   "cell_type": "code",
   "execution_count": 146,
   "metadata": {},
   "outputs": [],
   "source": [
    "# Your Code\n",
    "companies=db.companies.find({\"$and\":[{\"founded_year\":{\"$lt\": 2000}},{\"acquisition.price_amount\":{\"$gt\": 1000000}}]})\n",
    "for e in companies:\n",
    "    print(e[\"name\"],e[\"founded_year\"],e[\"acquisition\"][\"price_amount\"])  "
   ]
  },
  {
   "cell_type": "markdown",
   "metadata": {},
   "source": [
    "### 13. All the companies that have been acquired after 2010, order by the acquisition amount, and retrieve only their `name` and `acquisition` field."
   ]
  },
  {
   "cell_type": "code",
   "execution_count": 151,
   "metadata": {},
   "outputs": [],
   "source": [
    "# Your Code\n",
    "companies2=db.companies.find({\"acquisition.acquired_year\":{\"$gt\": 2010}},{\"acquisition.price_amount\":1,\"name\":1}).sort([(\"acquisition.price_amount\", DESCENDING)])\n",
    "for e in companies2:\n",
    "    print(e[\"name\"],e[\"acquisition\"])"
   ]
  },
  {
   "cell_type": "markdown",
   "metadata": {},
   "source": [
    "### 14. Order the companies by their `founded year`, retrieving only their `name` and `founded year`."
   ]
  },
  {
   "cell_type": "code",
   "execution_count": 152,
   "metadata": {},
   "outputs": [],
   "source": [
    "# Your Code\n",
    "companies_year=db.companies.find({\"founded_year\":{\"exists\":True}},{\"name\":1,\"founded_year\":1}).sort([(\"founded_year\", DESCENDING)]) \n",
    "for x in companies_year:\n",
    "    print(x[\"name\"],x[\"founded_year\"])"
   ]
  },
  {
   "cell_type": "markdown",
   "metadata": {},
   "source": [
    "### 15. All the companies that have been founded on the first seven days of the month, including the seventh. Sort them by their `acquisition price` in a descending order. Limit the search to 10 documents."
   ]
  },
  {
   "cell_type": "code",
   "execution_count": 158,
   "metadata": {},
   "outputs": [
    {
     "name": "stdout",
     "output_type": "stream",
     "text": [
      "Netscape 4 4200000000\n",
      "PayPal 1 1500000000\n",
      "Zappos 1 1200000000\n",
      "Alibaba 1 1000000000\n",
      "Postini 2 625000000\n",
      "Danger 1 500000000\n",
      "Clearwell Systems 6 410000000\n",
      "PrimeSense 1 345000000\n",
      "Amobee 1 321000000\n",
      "BlueLithium 1 300000000\n"
     ]
    }
   ],
   "source": [
    "# Your Code\n",
    "cursor=db.companies.find({\"founded_day\":{\"$lte\":7}}).limit(10).sort([(\"acquisition.price_amount\", DESCENDING)]) \n",
    "for x in cursor:\n",
    "    print(x[\"name\"],x[\"founded_day\"],x[\"acquisition\"][\"price_amount\"])"
   ]
  },
  {
   "cell_type": "markdown",
   "metadata": {},
   "source": [
    "### 16. All the companies on the 'web' `category` that have more than 4000 employees. Sort them by the amount of employees in ascending order."
   ]
  },
  {
   "cell_type": "code",
   "execution_count": 166,
   "metadata": {},
   "outputs": [
    {
     "name": "stdout",
     "output_type": "stream",
     "text": [
      "Experian web 15500\n",
      "eBay web 15000\n",
      "Yahoo! web 13600\n",
      "Rakuten web 10000\n",
      "Los Angeles Times Media Group web 10000\n",
      "Groupon web 10000\n",
      "Webkinz web 8657\n",
      "AOL web 8000\n",
      "Expedia web 4400\n"
     ]
    }
   ],
   "source": [
    "# Your Code\n",
    "cursor2=db.companies.find({\"$and\":[{\"category_code\":{\"$eq\":\"web\"}},{\"number_of_employees\":{\"$gt\": 4000}}]}).sort([(\"number_of_employees\", DESCENDING)])\n",
    "for x in cursor2:\n",
    "    print(x[\"name\"],x[\"category_code\"],x[\"number_of_employees\"])"
   ]
  },
  {
   "cell_type": "markdown",
   "metadata": {},
   "source": [
    "### 17. All the companies whose acquisition amount is more than 10.000.000, and currency is 'EUR'."
   ]
  },
  {
   "cell_type": "code",
   "execution_count": 165,
   "metadata": {},
   "outputs": [
    {
     "name": "stdout",
     "output_type": "stream",
     "text": [
      "ZYB 31500000 EUR\n",
      "Apertio 140000000 EUR\n",
      "Greenfield Online 40000000 EUR\n",
      "Webedia 70000000 EUR\n",
      "Wayfinder 24000000 EUR\n",
      "Tuenti Technologies 70000000 EUR\n",
      "BioMed Central 43400000 EUR\n"
     ]
    }
   ],
   "source": [
    "# Your Code\n",
    "cursor3=db.companies.find({\"$and\":[{\"acquisition.price_amount\":{\"$gt\": 10000000}},{\"acquisition.price_currency_code\":{\"$eq\":\"EUR\"}}]})\n",
    "for x in cursor3:\n",
    "    print(x[\"name\"],x[\"acquisition\"][\"price_amount\"],x[\"acquisition\"][\"price_currency_code\"])"
   ]
  },
  {
   "cell_type": "markdown",
   "metadata": {},
   "source": [
    "### 18. All the companies that have been acquired on the first trimester of the year. Limit the search to 10 companies, and retrieve only their `name` and `acquisition` fields."
   ]
  },
  {
   "cell_type": "code",
   "execution_count": 169,
   "metadata": {},
   "outputs": [
    {
     "name": "stdout",
     "output_type": "stream",
     "text": [
      "Kyte {'price_amount': None, 'price_currency_code': 'USD', 'term_code': None, 'source_url': 'http://techcrunch.com/2011/01/31/exclusive-kit-digital-acquires-kickapps-kewego-and-kyte-for-77-2-million/', 'source_description': 'KIT digital Acquires KickApps, Kewego AND Kyte For $77.2 Million', 'acquired_year': 2011, 'acquired_month': 1, 'acquired_day': 31, 'acquiring_company': {'name': 'KIT digital', 'permalink': 'kit-digital'}}\n",
      "NetRatings {'price_amount': 327000000, 'price_currency_code': 'USD', 'term_code': 'cash', 'source_url': 'http://login.vnuemedia.com/hr/login/login_subscribe.jsp?id=0oqDem1gYIfIclz9i2%2Ffqj5NxCp2AC5DPbVnyT2da8GyV2mXjasabE128n69OrmcAh52%2FGE3pSG%2F%0AEKRYD9vh9EhrJrxukmUzh532fSMTZXL42gwPB80UWVtF1NwJ5UZSM%2BCkLU1mpYBoHFgiH%2Fi0f6Ax%0A9yMIVxt47t%2BHamhEQ0nkOEK24L', 'source_description': 'Nielsen buys rest of NetRatings', 'acquired_year': 2007, 'acquired_month': 2, 'acquired_day': None, 'acquiring_company': {'name': 'Nielsen', 'permalink': 'nielsen'}}\n",
      "blogTV {'price_amount': None, 'price_currency_code': 'USD', 'term_code': None, 'source_url': 'http://techcrunch.com/2013/03/13/younow-buys-blogtv/', 'source_description': 'Live Social Video Network YouNow Acquires Streaming Service BlogTV', 'acquired_year': 2013, 'acquired_month': 3, 'acquired_day': 13, 'acquiring_company': {'name': 'YouNow', 'permalink': 'younow'}}\n",
      "Livestream {'price_amount': None, 'price_currency_code': 'USD', 'term_code': 'cash_and_stock', 'source_url': '', 'source_description': 'company', 'acquired_year': 2008, 'acquired_month': 1, 'acquired_day': 1, 'acquiring_company': {'name': 'Adviqo', 'permalink': 'adviqo'}}\n",
      "iContact {'price_amount': 169000000, 'price_currency_code': 'USD', 'term_code': 'cash_and_stock', 'source_url': 'http://techcrunch.com/2012/02/28/vocus-buys-email-marketing-company-icontact-for-169-million/', 'source_description': 'Vocus Buys Email Marketing Company iContact For $169 Million', 'acquired_year': 2012, 'acquired_month': 2, 'acquired_day': 28, 'acquiring_company': {'name': 'Vocus', 'permalink': 'vocus'}}\n",
      "Coghead {'price_amount': None, 'price_currency_code': 'USD', 'term_code': None, 'source_url': 'http://www.techcrunch.com/2009/02/19/sap-acquires-cogheads-technology-as-it-looks-towards-the-cloud/', 'source_description': 'SAP Acquires Cogheadâ€™s Technology As It Looks Towards The Cloud', 'acquired_year': 2009, 'acquired_month': 2, 'acquired_day': 19, 'acquiring_company': {'name': 'SAP', 'permalink': 'sap'}}\n",
      "Netvibes {'price_amount': None, 'price_currency_code': 'USD', 'term_code': None, 'source_url': 'http://www.marketwatch.com/story/dassault-systemes-acquires-netvibes-2012-02-09', 'source_description': 'Dassault Systemes Acquires Netvibes', 'acquired_year': 2012, 'acquired_month': 2, 'acquired_day': 9, 'acquiring_company': {'name': 'Dassault Systemes', 'permalink': 'dassault'}}\n",
      "Flickr {'price_amount': None, 'price_currency_code': 'USD', 'term_code': 'cash_and_stock', 'source_url': 'http://news.cnet.com/Yahoo-buys-photo-sharing-site-Flickr/2100-1038_3-5627640.html?tag=mncol;txt', 'source_description': 'CNET', 'acquired_year': 2005, 'acquired_month': 3, 'acquired_day': None, 'acquiring_company': {'name': 'Yahoo!', 'permalink': 'yahoo'}}\n",
      "Dailymotion {'price_amount': 168000000, 'price_currency_code': 'USD', 'term_code': None, 'source_url': 'http://techcrunch.com/2013/02/22/orange-acquired-dailymotion-for-168-million-by-buying-out-the-remaining-51-stake/', 'source_description': 'Orange Acquired Dailymotion For $168 Million By Buying Out Remaining 51% Stake [Update: Orange Confirms]', 'acquired_year': 2013, 'acquired_month': 2, 'acquired_day': 22, 'acquiring_company': {'name': 'Orange', 'permalink': 'orange'}}\n",
      "BabyCenter {'price_amount': None, 'price_currency_code': 'USD', 'term_code': None, 'source_url': 'http://www.investor.jnj.com/releasedetail.cfm?releaseid=63836', 'source_description': 'Johnson & Johnson Acquires BabyCenter From eToys, Inc. Leading Online Destination for Parents Plans for Continued Expansion of Operations', 'acquired_year': 2001, 'acquired_month': 3, 'acquired_day': 2, 'acquiring_company': {'name': 'Johnson & Johnson', 'permalink': 'johnson-johnson'}}\n"
     ]
    }
   ],
   "source": [
    "# Your Code\n",
    "cursor4=db.companies.find({\"acquisition.acquired_month\":{\"$lte\":3}},{\"name\":1,\"acquisition\":1}).limit(10)\n",
    "for x in cursor4:\n",
    "    print(x[\"name\"],x[\"acquisition\"])"
   ]
  },
  {
   "cell_type": "markdown",
   "metadata": {},
   "source": [
    "# Bonus\n",
    "### 19. All the companies that have been founded between 2000 and 2010, but have not been acquired before 2011."
   ]
  },
  {
   "cell_type": "code",
   "execution_count": 174,
   "metadata": {},
   "outputs": [
    {
     "name": "stdout",
     "output_type": "stream",
     "text": [
      "Wetpaint 2005 2013\n",
      "Digg 2004 2012\n",
      "Geni 2006 2012\n",
      "blogTV 2006 2013\n",
      "Revision3 2005 2012\n",
      "iContact 2003 2012\n",
      "Mashery 2006 2013\n",
      "KickApps 2004 2012\n",
      "Netvibes 2005 2012\n",
      "Dailymotion 2005 2013\n"
     ]
    }
   ],
   "source": [
    "# Your Code\n",
    "cursor5=db.companies.find({\"$and\":[{\"founded_year\":{\"$gte\": 2000,\"$lte\":2010}},{\"acquisition.acquired_year\":{\"$gt\": 2011}}]}).limit(10)\n",
    "for f in cursor5:\n",
    "    print(f[\"name\"],f[\"founded_year\"],f[\"acquisition\"][\"acquired_year\"])"
   ]
  },
  {
   "cell_type": "markdown",
   "metadata": {},
   "source": [
    "### 20. All the companies that have been 'deadpooled' after the third year."
   ]
  },
  {
   "cell_type": "code",
   "execution_count": 184,
   "metadata": {},
   "outputs": [],
   "source": [
    "# Your Code\n",
    "cursor6=db.companies.aggregate([{\"$project\":{\"name\": 1,\"dateDifference\":{\"$subtract\": [ \"$founded_year\",\"$deadpooled_year\"]}}}])\n",
    "\n",
    "#db.sales.aggregate( [ { $project: { item: 1, dateDifference: { $subtract: [ \"$$NOW\", \"$date\" ] } } } ] )"
   ]
  }
 ],
 "metadata": {
  "kernelspec": {
   "display_name": "Python 3",
   "language": "python",
   "name": "python3"
  },
  "language_info": {
   "codemirror_mode": {
    "name": "ipython",
    "version": 3
   },
   "file_extension": ".py",
   "mimetype": "text/x-python",
   "name": "python",
   "nbconvert_exporter": "python",
   "pygments_lexer": "ipython3",
   "version": "3.7.7"
  }
 },
 "nbformat": 4,
 "nbformat_minor": 2
}
