{
 "cells": [
  {
   "cell_type": "markdown",
   "metadata": {},
   "source": [
    "# Challenge 1: Fork Languages\n"
   ]
  },
  {
   "cell_type": "code",
   "execution_count": null,
   "metadata": {},
   "outputs": [],
   "source": [
    "import requests\n",
    "import os\n",
    "from dotenv import load_dotenv\n",
    "import json"
   ]
  },
  {
   "cell_type": "markdown",
   "metadata": {},
   "source": [
    "**Obtain the full list of forks created from the main lab repo via Github API.**"
   ]
  },
  {
   "cell_type": "code",
   "execution_count": 55,
   "metadata": {},
   "outputs": [
    {
     "data": {
      "text/plain": [
       "25"
      ]
     },
     "execution_count": 55,
     "metadata": {},
     "output_type": "execute_result"
    }
   ],
   "source": [
    "url=\"https://api.github.com/repos/ironhack-datalabs/datamad0320/forks\"\n",
    "res=requests.get(url)\n",
    "forks=res.json()\n",
    "len(forks)"
   ]
  },
  {
   "cell_type": "markdown",
   "metadata": {},
   "source": [
    "**Loop the JSON response to find out the language attribute of each fork. Use an array to store the language attributes of each fork.**\n",
    "\n",
    "**Hint: Each language should appear only once in your array.**"
   ]
  },
  {
   "cell_type": "code",
   "execution_count": 56,
   "metadata": {},
   "outputs": [
    {
     "data": {
      "text/plain": [
       "[None, 'Jupyter Notebook']"
      ]
     },
     "execution_count": 56,
     "metadata": {},
     "output_type": "execute_result"
    }
   ],
   "source": [
    "language = list({n['language'] for n in forks})\n",
    "language]\n",
    "\n"
   ]
  },
  {
   "cell_type": "code",
   "execution_count": 61,
   "metadata": {},
   "outputs": [
    {
     "name": "stdout",
     "output_type": "stream",
     "text": [
      "['Jupyter Notebook', None]\n"
     ]
    }
   ],
   "source": [
    "languages=[]\n",
    "for n in forks:\n",
    "    if n[\"language\"] not in languages:\n",
    "        languages.append(n[\"language\"])"
   ]
  },
  {
   "cell_type": "markdown",
   "metadata": {},
   "source": [
    "**Print the language array. It should be something like:**\n",
    "\n",
    "[\"Python\", \"Jupyter Notebook\", \"HTML\"]"
   ]
  },
  {
   "cell_type": "code",
   "execution_count": 63,
   "metadata": {},
   "outputs": [
    {
     "name": "stdout",
     "output_type": "stream",
     "text": [
      "['Jupyter Notebook', None]\n"
     ]
    }
   ],
   "source": [
    "print(languages)"
   ]
  },
  {
   "cell_type": "markdown",
   "metadata": {},
   "source": [
    "# Challenge 2: Count Commits"
   ]
  },
  {
   "cell_type": "markdown",
   "metadata": {},
   "source": [
    "**Count how many commits were made in the past week.**\n",
    "\n",
    "**1. Obtain all the commits made in the past week via API, which is a JSON array that contains multiple commit objects.**\n",
    "\n",
    "**2. Count how many commit objects are contained in the array.**"
   ]
  },
  {
   "cell_type": "code",
   "execution_count": 64,
   "metadata": {},
   "outputs": [
    {
     "name": "stdout",
     "output_type": "stream",
     "text": [
      "200 https://api.github.com/repos/ironhack-datalabs/datamad0320/commits?since=2020-03-30T00:00:01Z\n",
      "NO APIKEY FOUND\n",
      "200 https://api.github.com/repos/ironhack-datalabs/datamad0320/commits?since=2020-03-30T00:00:01Z\n"
     ]
    },
    {
     "data": {
      "text/plain": [
       "0"
      ]
     },
     "execution_count": 64,
     "metadata": {},
     "output_type": "execute_result"
    }
   ],
   "source": [
    "def getFromGithub(path,queryParams=dict(),apiKey=\"\"):\n",
    "    url = f\"https://api.github.com{path}\"\n",
    "    headers = {\"Authorization\":f\"token {apiKey}\"} if apiKey else {}\n",
    "    res = requests.get(url, params=queryParams, headers=headers)\n",
    "    print(res.status_code, res.url)\n",
    "    return res.json()\n",
    "\n",
    "repos = getFromGithub(\"/repos/ironhack-datalabs/datamad0320/commits?since=2020-03-30T00:00:01Z\")\n",
    "\n",
    "apiKey = os.getenv(\"GITHUB_APIKEY\")\n",
    "print(\"WE HAVE APIKEY\") if apiKey else print(\"NO APIKEY FOUND\")\n",
    "commits = getFromGithub(\"/repos/ironhack-datalabs/datamad0320/commits?since=2020-03-30T00:00:01Z\", apiKey=apiKey)\n",
    "len(commits)"
   ]
  },
  {
   "cell_type": "markdown",
   "metadata": {},
   "source": [
    "# Challenge 3: Hidden Cold Joke"
   ]
  },
  {
   "cell_type": "markdown",
   "metadata": {},
   "source": [
    "**1. Sort the filenames ascendingly.**\n",
    "\n",
    "**2. Read the content of each secret files into an array of strings.**\n",
    "\n",
    "**3. Concatenate the strings in the array separating each two with a whitespace.**\n",
    "\n",
    "**4. Print out the joke.**"
   ]
  },
  {
   "cell_type": "code",
   "execution_count": null,
   "metadata": {},
   "outputs": [],
   "source": []
  }
 ],
 "metadata": {
  "kernelspec": {
   "display_name": "Python 3",
   "language": "python",
   "name": "python3"
  },
  "language_info": {
   "codemirror_mode": {
    "name": "ipython",
    "version": 3
   },
   "file_extension": ".py",
   "mimetype": "text/x-python",
   "name": "python",
   "nbconvert_exporter": "python",
   "pygments_lexer": "ipython3",
   "version": "3.7.7"
  }
 },
 "nbformat": 4,
 "nbformat_minor": 4
}
